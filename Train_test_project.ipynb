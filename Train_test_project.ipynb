{
  "nbformat": 4,
  "nbformat_minor": 0,
  "metadata": {
    "colab": {
      "provenance": []
    },
    "kernelspec": {
      "name": "python3",
      "display_name": "Python 3"
    },
    "language_info": {
      "name": "python"
    }
  },
  "cells": [
    {
      "cell_type": "code",
      "execution_count": 2,
      "metadata": {
        "colab": {
          "base_uri": "https://localhost:8080/"
        },
        "id": "cFDN8moy3gqS",
        "outputId": "3b9cd94c-cdd0-473c-ffc5-2a608e8c1492"
      },
      "outputs": [
        {
          "output_type": "stream",
          "name": "stdout",
          "text": [
            "x_train:\n",
            "[[7 2 3 4]\n",
            " [1 7 2 5]\n",
            " [3 7 1 6]\n",
            " [3 4 5 4]\n",
            " [8 1 3 7]\n",
            " [1 5 7 1]\n",
            " [9 7 2 9]\n",
            " [1 5 2 6]\n",
            " [4 5 6 6]\n",
            " [7 7 4 3]\n",
            " [4 7 8 5]\n",
            " [5 6 4 6]]\n",
            "\n",
            "x_test:\n",
            "[[3 7 5 8]\n",
            " [3 4 3 7]\n",
            " [6 1 1 6]\n",
            " [1 4 8 7]\n",
            " [7 2 5 7]\n",
            " [3 5 1 9]\n",
            " [5 4 8 4]\n",
            " [2 5 4 9]]\n",
            "\n",
            "y_train:\n",
            "[4 6 9 2 3 1 5 6 1 5 2 1]\n",
            "\n",
            "y_test:\n",
            "[7 5 5 9 6 5 7 9]\n"
          ]
        }
      ],
      "source": [
        "import numpy as np\n",
        "def train_test_split(data,p): #60% train 40 % test\n",
        "    split_index = int(data.shape[0]*p)\n",
        "\n",
        "    train=data[:split_index, :]  # from zero till end\n",
        "    test =data[split_index : , :] # from 12 till end\n",
        "\n",
        "    #train\n",
        "\n",
        "    x_train= train[:, :-1]\n",
        "    y_train= train[:,-1]\n",
        "\n",
        "    #test\n",
        "\n",
        "    x_test= test[:, :-1]\n",
        "    y_test= test[:,-1]\n",
        "\n",
        "    return x_train, x_test, y_train, y_test\n",
        "\n",
        "\n",
        "\n",
        "np.random.seed(12)\n",
        "data = np.random.randint(1 , 10 , (20,5))\n",
        "p= 0.6\n",
        "x_train, x_test, y_train, y_test = train_test_split(data, p)\n",
        "\n",
        "print(\"x_train:\")\n",
        "print(x_train)\n",
        "print(\"\\nx_test:\")\n",
        "print(x_test)\n",
        "print(\"\\ny_train:\")\n",
        "print(y_train)\n",
        "print(\"\\ny_test:\")\n",
        "print(y_test)\n",
        "\n",
        "\n",
        "\n",
        "\n",
        "\n",
        "\n"
      ]
    }
  ]
}